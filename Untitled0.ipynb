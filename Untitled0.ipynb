{
  "nbformat": 4,
  "nbformat_minor": 0,
  "metadata": {
    "colab": {
      "provenance": []
    },
    "kernelspec": {
      "name": "python3",
      "display_name": "Python 3"
    },
    "language_info": {
      "name": "python"
    }
  },
  "cells": [
    {
      "cell_type": "code",
      "execution_count": 3,
      "metadata": {
        "colab": {
          "base_uri": "https://localhost:8080/"
        },
        "id": "SSf1Ei8jxzfh",
        "outputId": "f212749e-b42a-4978-feb5-ddaa101df53a"
      },
      "outputs": [
        {
          "output_type": "stream",
          "name": "stdout",
          "text": [
            "Requirement already satisfied: google-generativeai in /usr/local/lib/python3.10/dist-packages (0.5.2)\n",
            "Requirement already satisfied: google-ai-generativelanguage==0.6.2 in /usr/local/lib/python3.10/dist-packages (from google-generativeai) (0.6.2)\n",
            "Requirement already satisfied: google-api-core in /usr/local/lib/python3.10/dist-packages (from google-generativeai) (2.11.1)\n",
            "Requirement already satisfied: google-api-python-client in /usr/local/lib/python3.10/dist-packages (from google-generativeai) (2.84.0)\n",
            "Requirement already satisfied: google-auth>=2.15.0 in /usr/local/lib/python3.10/dist-packages (from google-generativeai) (2.27.0)\n",
            "Requirement already satisfied: protobuf in /usr/local/lib/python3.10/dist-packages (from google-generativeai) (3.20.3)\n",
            "Requirement already satisfied: pydantic in /usr/local/lib/python3.10/dist-packages (from google-generativeai) (2.7.0)\n",
            "Requirement already satisfied: tqdm in /usr/local/lib/python3.10/dist-packages (from google-generativeai) (4.66.2)\n",
            "Requirement already satisfied: typing-extensions in /usr/local/lib/python3.10/dist-packages (from google-generativeai) (4.11.0)\n",
            "Requirement already satisfied: proto-plus<2.0.0dev,>=1.22.3 in /usr/local/lib/python3.10/dist-packages (from google-ai-generativelanguage==0.6.2->google-generativeai) (1.23.0)\n",
            "Requirement already satisfied: cachetools<6.0,>=2.0.0 in /usr/local/lib/python3.10/dist-packages (from google-auth>=2.15.0->google-generativeai) (5.3.3)\n",
            "Requirement already satisfied: pyasn1-modules>=0.2.1 in /usr/local/lib/python3.10/dist-packages (from google-auth>=2.15.0->google-generativeai) (0.4.0)\n",
            "Requirement already satisfied: rsa<5,>=3.1.4 in /usr/local/lib/python3.10/dist-packages (from google-auth>=2.15.0->google-generativeai) (4.9)\n",
            "Requirement already satisfied: googleapis-common-protos<2.0.dev0,>=1.56.2 in /usr/local/lib/python3.10/dist-packages (from google-api-core->google-generativeai) (1.63.0)\n",
            "Requirement already satisfied: requests<3.0.0.dev0,>=2.18.0 in /usr/local/lib/python3.10/dist-packages (from google-api-core->google-generativeai) (2.31.0)\n",
            "Requirement already satisfied: httplib2<1dev,>=0.15.0 in /usr/local/lib/python3.10/dist-packages (from google-api-python-client->google-generativeai) (0.22.0)\n",
            "Requirement already satisfied: google-auth-httplib2>=0.1.0 in /usr/local/lib/python3.10/dist-packages (from google-api-python-client->google-generativeai) (0.1.1)\n",
            "Requirement already satisfied: uritemplate<5,>=3.0.1 in /usr/local/lib/python3.10/dist-packages (from google-api-python-client->google-generativeai) (4.1.1)\n",
            "Requirement already satisfied: annotated-types>=0.4.0 in /usr/local/lib/python3.10/dist-packages (from pydantic->google-generativeai) (0.6.0)\n",
            "Requirement already satisfied: pydantic-core==2.18.1 in /usr/local/lib/python3.10/dist-packages (from pydantic->google-generativeai) (2.18.1)\n",
            "Requirement already satisfied: grpcio<2.0dev,>=1.33.2 in /usr/local/lib/python3.10/dist-packages (from google-api-core->google-generativeai) (1.62.2)\n",
            "Requirement already satisfied: grpcio-status<2.0.dev0,>=1.33.2 in /usr/local/lib/python3.10/dist-packages (from google-api-core->google-generativeai) (1.48.2)\n",
            "Requirement already satisfied: pyparsing!=3.0.0,!=3.0.1,!=3.0.2,!=3.0.3,<4,>=2.4.2 in /usr/local/lib/python3.10/dist-packages (from httplib2<1dev,>=0.15.0->google-api-python-client->google-generativeai) (3.1.2)\n",
            "Requirement already satisfied: pyasn1<0.7.0,>=0.4.6 in /usr/local/lib/python3.10/dist-packages (from pyasn1-modules>=0.2.1->google-auth>=2.15.0->google-generativeai) (0.6.0)\n",
            "Requirement already satisfied: charset-normalizer<4,>=2 in /usr/local/lib/python3.10/dist-packages (from requests<3.0.0.dev0,>=2.18.0->google-api-core->google-generativeai) (3.3.2)\n",
            "Requirement already satisfied: idna<4,>=2.5 in /usr/local/lib/python3.10/dist-packages (from requests<3.0.0.dev0,>=2.18.0->google-api-core->google-generativeai) (3.7)\n",
            "Requirement already satisfied: urllib3<3,>=1.21.1 in /usr/local/lib/python3.10/dist-packages (from requests<3.0.0.dev0,>=2.18.0->google-api-core->google-generativeai) (2.0.7)\n",
            "Requirement already satisfied: certifi>=2017.4.17 in /usr/local/lib/python3.10/dist-packages (from requests<3.0.0.dev0,>=2.18.0->google-api-core->google-generativeai) (2024.2.2)\n"
          ]
        }
      ],
      "source": [
        "!pip install -U google-generativeai\n",
        "import google.generativeai as genai\n",
        "from google.colab import userdata\n",
        "\n",
        "\n",
        "\n",
        "\n"
      ]
    },
    {
      "cell_type": "code",
      "source": [
        "GOOGLE_API_KEY=userdata.get('GOOGLE_API_KEY')\n",
        "genai.configure(api_key=GOOGLE_API_KEY)\n",
        "\n",
        "\n"
      ],
      "metadata": {
        "id": "p9zRPx8Q1bHL"
      },
      "execution_count": 4,
      "outputs": []
    },
    {
      "cell_type": "code",
      "source": [
        "for m in genai.list_models():\n",
        "  if 'generateContent' in m.supported_generation_methods:\n",
        "    print(m.name)\n"
      ],
      "metadata": {
        "colab": {
          "base_uri": "https://localhost:8080/",
          "height": 139
        },
        "id": "CqJPVaiq12ox",
        "outputId": "49937c06-31b1-429b-86e5-7867106b0718"
      },
      "execution_count": 5,
      "outputs": [
        {
          "output_type": "stream",
          "name": "stdout",
          "text": [
            "models/gemini-1.0-pro\n",
            "models/gemini-1.0-pro-001\n",
            "models/gemini-1.0-pro-latest\n",
            "models/gemini-1.0-pro-vision-latest\n",
            "models/gemini-1.5-pro-latest\n",
            "models/gemini-pro\n",
            "models/gemini-pro-vision\n"
          ]
        }
      ]
    },
    {
      "cell_type": "code",
      "source": [
        "model = genai.GenerativeModel('gemini-1.0-pro')\n"
      ],
      "metadata": {
        "id": "0drMllsY2OIJ"
      },
      "execution_count": 6,
      "outputs": []
    },
    {
      "cell_type": "code",
      "source": [
        "response = model.generate_content(\"O QUE E POLITICA\")\n",
        "print(\"Resposta\", response.text)"
      ],
      "metadata": {
        "colab": {
          "base_uri": "https://localhost:8080/",
          "height": 679
        },
        "id": "hYgOBlkB2bCp",
        "outputId": "35292f62-0796-4680-8c5a-8e10ba06cc4d"
      },
      "execution_count": 9,
      "outputs": [
        {
          "output_type": "stream",
          "name": "stdout",
          "text": [
            "Resposta **Definição de Política**\n",
            "\n",
            "Política é a arte ou ciência de governar um estado ou comunidade. Envolve a tomada de decisões, a alocação de recursos e o estabelecimento de regras e diretrizes para a sociedade.\n",
            "\n",
            "**Princípios Fundamentais da Política**\n",
            "\n",
            "* **Autoridade:** A capacidade de tomar decisões e aplicá-las aos cidadãos.\n",
            "* **Poder:** A capacidade de influenciar ou controlar o comportamento dos outros.\n",
            "* **Legitimidade:** A aceitação e o reconhecimento do direito de governar.\n",
            "* **Participação:** O envolvimento dos cidadãos no processo político.\n",
            "* **Equilíbrio:** A divisão e distribuição do poder entre diferentes grupos e instituições.\n",
            "\n",
            "**Tipos de Sistemas Políticos**\n",
            "\n",
            "* **Democracia:** Um sistema em que os cidadãos elegem seus representantes e têm uma palavra a dizer nas decisões políticas.\n",
            "* **Autocracia:** Um sistema em que uma única pessoa ou grupo detém todo o poder.\n",
            "* **Oligarquia:** Um sistema em que um pequeno grupo de pessoas detém o poder.\n",
            "* **Monarquia:** Um sistema em que um indivíduo é o chefe de estado, geralmente por herança.\n",
            "* **República:** Um sistema em que o chefe de estado não é hereditário e é eleito ou nomeado.\n",
            "\n",
            "**Funções da Política**\n",
            "\n",
            "* **Manutenção da ordem:** Estabelecer e aplicar leis para manter a paz e a segurança.\n",
            "* **Distribuição de recursos:** Alocar recursos como saúde, educação e infraestrutura para atender às necessidades dos cidadãos.\n",
            "* **Regulação da sociedade:** Criar e impor regras e normas para orientar o comportamento dos indivíduos e das organizações.\n",
            "* **Resolução de conflitos:** Facilitar a resolução pacífica de disputas e conflitos.\n",
            "* **Proteção dos cidadãos:** Garantir a segurança e o bem-estar dos cidadãos contra ameaças internas e externas.\n",
            "\n",
            "**Importância da Política**\n",
            "\n",
            "A política desempenha um papel crucial nas nossas vidas, pois:\n",
            "\n",
            "* **Afeta nossas liberdades e direitos:** As leis e políticas determinam o que podemos e não podemos fazer.\n",
            "* **Determina a qualidade de nossos serviços:** As políticas governamentais afetam a educação, a saúde e outros serviços essenciais.\n",
            "* **Influencia nosso bem-estar econômico:** As políticas fiscais, monetárias e comerciais impactam o crescimento econômico e o emprego.\n",
            "* **Moldar nossas relações com outras nações:** As políticas externas determinam como nos relacionamos com outros países e respondemos a eventos globais.\n",
            "* **Reflete nossos valores e crenças:** As políticas são um reflexo dos valores e crenças fundamentais da sociedade.\n"
          ]
        }
      ]
    }
  ]
}